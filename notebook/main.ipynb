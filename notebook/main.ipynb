{
 "cells": [
  {
   "cell_type": "markdown",
   "source": [
    "Data Analysis"
   ],
   "metadata": {
    "collapsed": false
   },
   "id": "72142506ec719aeb"
  },
  {
   "cell_type": "code",
   "execution_count": 419,
   "outputs": [],
   "source": [
    "import pandas as pd\n",
    "\n",
    "df = pd.read_csv('../dataset/nba_logreg.csv')\n",
    "# df"
   ],
   "metadata": {
    "collapsed": false,
    "ExecuteTime": {
     "end_time": "2023-12-11T00:55:13.567502983Z",
     "start_time": "2023-12-11T00:55:13.503605052Z"
    }
   },
   "id": "62803c28c377a337"
  },
  {
   "cell_type": "code",
   "execution_count": 420,
   "outputs": [
    {
     "name": "stdout",
     "output_type": "stream",
     "text": [
      "<class 'pandas.core.frame.DataFrame'>\n",
      "RangeIndex: 1340 entries, 0 to 1339\n",
      "Data columns (total 21 columns):\n",
      " #   Column       Non-Null Count  Dtype  \n",
      "---  ------       --------------  -----  \n",
      " 0   name         1340 non-null   object \n",
      " 1   gp           1340 non-null   int64  \n",
      " 2   min          1340 non-null   float64\n",
      " 3   pts          1340 non-null   float64\n",
      " 4   fgm          1340 non-null   float64\n",
      " 5   fga          1340 non-null   float64\n",
      " 6   fg           1340 non-null   float64\n",
      " 7   3p_made      1340 non-null   float64\n",
      " 8   3pa          1340 non-null   float64\n",
      " 9   3p           1329 non-null   float64\n",
      " 10  ftm          1340 non-null   float64\n",
      " 11  fta          1340 non-null   float64\n",
      " 12  ft           1340 non-null   float64\n",
      " 13  oreb         1340 non-null   float64\n",
      " 14  dreb         1340 non-null   float64\n",
      " 15  reb          1340 non-null   float64\n",
      " 16  ast          1340 non-null   float64\n",
      " 17  stl          1340 non-null   float64\n",
      " 18  blk          1340 non-null   float64\n",
      " 19  tov          1340 non-null   float64\n",
      " 20  target_5yrs  1340 non-null   float64\n",
      "dtypes: float64(19), int64(1), object(1)\n",
      "memory usage: 220.0+ KB\n"
     ]
    }
   ],
   "source": [
    "# Общая информация\n",
    "df.info()"
   ],
   "metadata": {
    "collapsed": false,
    "ExecuteTime": {
     "end_time": "2023-12-11T00:55:13.594159561Z",
     "start_time": "2023-12-11T00:55:13.567498234Z"
    }
   },
   "id": "a76ad0d1e8ccdab5"
  },
  {
   "cell_type": "code",
   "execution_count": 421,
   "outputs": [
    {
     "data": {
      "text/plain": "                 name\ncount            1340\nunique           1294\ntop     Charles Smith\nfreq                9",
      "text/html": "<div>\n<style scoped>\n    .dataframe tbody tr th:only-of-type {\n        vertical-align: middle;\n    }\n\n    .dataframe tbody tr th {\n        vertical-align: top;\n    }\n\n    .dataframe thead th {\n        text-align: right;\n    }\n</style>\n<table border=\"1\" class=\"dataframe\">\n  <thead>\n    <tr style=\"text-align: right;\">\n      <th></th>\n      <th>name</th>\n    </tr>\n  </thead>\n  <tbody>\n    <tr>\n      <th>count</th>\n      <td>1340</td>\n    </tr>\n    <tr>\n      <th>unique</th>\n      <td>1294</td>\n    </tr>\n    <tr>\n      <th>top</th>\n      <td>Charles Smith</td>\n    </tr>\n    <tr>\n      <th>freq</th>\n      <td>9</td>\n    </tr>\n  </tbody>\n</table>\n</div>"
     },
     "execution_count": 421,
     "metadata": {},
     "output_type": "execute_result"
    }
   ],
   "source": [
    "# Статистика для текстовых полей\n",
    "df.describe(include=['O'])"
   ],
   "metadata": {
    "collapsed": false,
    "ExecuteTime": {
     "end_time": "2023-12-11T00:55:13.621218545Z",
     "start_time": "2023-12-11T00:55:13.574864110Z"
    }
   },
   "id": "1e36de7936ebb9b6"
  },
  {
   "cell_type": "code",
   "execution_count": 422,
   "outputs": [
    {
     "data": {
      "text/plain": "                gp          min          pts          fgm          fga  \\\ncount  1340.000000  1340.000000  1340.000000  1340.000000  1340.000000   \nmean     60.414179    17.624627     6.801493     2.629104     5.885299   \nstd      17.433992     8.307964     4.357545     1.683555     3.593488   \nmin      11.000000     3.100000     0.700000     0.300000     0.800000   \n25%      47.000000    10.875000     3.700000     1.400000     3.300000   \n50%      63.000000    16.100000     5.550000     2.100000     4.800000   \n75%      77.000000    22.900000     8.800000     3.400000     7.500000   \nmax      82.000000    40.900000    28.200000    10.200000    19.800000   \n\n                fg      3p_made          3pa           3p          ftm  \\\ncount  1340.000000  1340.000000  1340.000000  1329.000000  1340.000000   \nmean     44.169403     0.247612     0.779179    19.308126     1.297687   \nstd       6.137679     0.383688     1.061847    16.022916     0.987246   \nmin      23.800000     0.000000     0.000000     0.000000     0.000000   \n25%      40.200000     0.000000     0.000000     0.000000     0.600000   \n50%      44.100000     0.100000     0.300000    22.400000     1.000000   \n75%      47.900000     0.400000     1.200000    32.500000     1.600000   \nmax      73.700000     2.300000     6.500000   100.000000     7.700000   \n\n               fta           ft         oreb         dreb          reb  \\\ncount  1340.000000  1340.000000  1340.000000  1340.000000  1340.000000   \nmean      1.821940    70.300299     1.009403     2.025746     3.034478   \nstd       1.322984    10.578479     0.777119     1.360008     2.057774   \nmin       0.000000     0.000000     0.000000     0.200000     0.300000   \n25%       0.900000    64.700000     0.400000     1.000000     1.500000   \n50%       1.500000    71.250000     0.800000     1.700000     2.500000   \n75%       2.300000    77.600000     1.400000     2.600000     4.000000   \nmax      10.200000   100.000000     5.300000     9.600000    13.900000   \n\n               ast          stl          blk          tov  target_5yrs  \ncount  1340.000000  1340.000000  1340.000000  1340.000000  1340.000000  \nmean      1.550522     0.618507     0.368582     1.193582     0.620149  \nstd       1.471169     0.409759     0.429049     0.722541     0.485531  \nmin       0.000000     0.000000     0.000000     0.100000     0.000000  \n25%       0.600000     0.300000     0.100000     0.700000     0.000000  \n50%       1.100000     0.500000     0.200000     1.000000     1.000000  \n75%       2.000000     0.800000     0.500000     1.500000     1.000000  \nmax      10.600000     2.500000     3.900000     4.400000     1.000000  ",
      "text/html": "<div>\n<style scoped>\n    .dataframe tbody tr th:only-of-type {\n        vertical-align: middle;\n    }\n\n    .dataframe tbody tr th {\n        vertical-align: top;\n    }\n\n    .dataframe thead th {\n        text-align: right;\n    }\n</style>\n<table border=\"1\" class=\"dataframe\">\n  <thead>\n    <tr style=\"text-align: right;\">\n      <th></th>\n      <th>gp</th>\n      <th>min</th>\n      <th>pts</th>\n      <th>fgm</th>\n      <th>fga</th>\n      <th>fg</th>\n      <th>3p_made</th>\n      <th>3pa</th>\n      <th>3p</th>\n      <th>ftm</th>\n      <th>fta</th>\n      <th>ft</th>\n      <th>oreb</th>\n      <th>dreb</th>\n      <th>reb</th>\n      <th>ast</th>\n      <th>stl</th>\n      <th>blk</th>\n      <th>tov</th>\n      <th>target_5yrs</th>\n    </tr>\n  </thead>\n  <tbody>\n    <tr>\n      <th>count</th>\n      <td>1340.000000</td>\n      <td>1340.000000</td>\n      <td>1340.000000</td>\n      <td>1340.000000</td>\n      <td>1340.000000</td>\n      <td>1340.000000</td>\n      <td>1340.000000</td>\n      <td>1340.000000</td>\n      <td>1329.000000</td>\n      <td>1340.000000</td>\n      <td>1340.000000</td>\n      <td>1340.000000</td>\n      <td>1340.000000</td>\n      <td>1340.000000</td>\n      <td>1340.000000</td>\n      <td>1340.000000</td>\n      <td>1340.000000</td>\n      <td>1340.000000</td>\n      <td>1340.000000</td>\n      <td>1340.000000</td>\n    </tr>\n    <tr>\n      <th>mean</th>\n      <td>60.414179</td>\n      <td>17.624627</td>\n      <td>6.801493</td>\n      <td>2.629104</td>\n      <td>5.885299</td>\n      <td>44.169403</td>\n      <td>0.247612</td>\n      <td>0.779179</td>\n      <td>19.308126</td>\n      <td>1.297687</td>\n      <td>1.821940</td>\n      <td>70.300299</td>\n      <td>1.009403</td>\n      <td>2.025746</td>\n      <td>3.034478</td>\n      <td>1.550522</td>\n      <td>0.618507</td>\n      <td>0.368582</td>\n      <td>1.193582</td>\n      <td>0.620149</td>\n    </tr>\n    <tr>\n      <th>std</th>\n      <td>17.433992</td>\n      <td>8.307964</td>\n      <td>4.357545</td>\n      <td>1.683555</td>\n      <td>3.593488</td>\n      <td>6.137679</td>\n      <td>0.383688</td>\n      <td>1.061847</td>\n      <td>16.022916</td>\n      <td>0.987246</td>\n      <td>1.322984</td>\n      <td>10.578479</td>\n      <td>0.777119</td>\n      <td>1.360008</td>\n      <td>2.057774</td>\n      <td>1.471169</td>\n      <td>0.409759</td>\n      <td>0.429049</td>\n      <td>0.722541</td>\n      <td>0.485531</td>\n    </tr>\n    <tr>\n      <th>min</th>\n      <td>11.000000</td>\n      <td>3.100000</td>\n      <td>0.700000</td>\n      <td>0.300000</td>\n      <td>0.800000</td>\n      <td>23.800000</td>\n      <td>0.000000</td>\n      <td>0.000000</td>\n      <td>0.000000</td>\n      <td>0.000000</td>\n      <td>0.000000</td>\n      <td>0.000000</td>\n      <td>0.000000</td>\n      <td>0.200000</td>\n      <td>0.300000</td>\n      <td>0.000000</td>\n      <td>0.000000</td>\n      <td>0.000000</td>\n      <td>0.100000</td>\n      <td>0.000000</td>\n    </tr>\n    <tr>\n      <th>25%</th>\n      <td>47.000000</td>\n      <td>10.875000</td>\n      <td>3.700000</td>\n      <td>1.400000</td>\n      <td>3.300000</td>\n      <td>40.200000</td>\n      <td>0.000000</td>\n      <td>0.000000</td>\n      <td>0.000000</td>\n      <td>0.600000</td>\n      <td>0.900000</td>\n      <td>64.700000</td>\n      <td>0.400000</td>\n      <td>1.000000</td>\n      <td>1.500000</td>\n      <td>0.600000</td>\n      <td>0.300000</td>\n      <td>0.100000</td>\n      <td>0.700000</td>\n      <td>0.000000</td>\n    </tr>\n    <tr>\n      <th>50%</th>\n      <td>63.000000</td>\n      <td>16.100000</td>\n      <td>5.550000</td>\n      <td>2.100000</td>\n      <td>4.800000</td>\n      <td>44.100000</td>\n      <td>0.100000</td>\n      <td>0.300000</td>\n      <td>22.400000</td>\n      <td>1.000000</td>\n      <td>1.500000</td>\n      <td>71.250000</td>\n      <td>0.800000</td>\n      <td>1.700000</td>\n      <td>2.500000</td>\n      <td>1.100000</td>\n      <td>0.500000</td>\n      <td>0.200000</td>\n      <td>1.000000</td>\n      <td>1.000000</td>\n    </tr>\n    <tr>\n      <th>75%</th>\n      <td>77.000000</td>\n      <td>22.900000</td>\n      <td>8.800000</td>\n      <td>3.400000</td>\n      <td>7.500000</td>\n      <td>47.900000</td>\n      <td>0.400000</td>\n      <td>1.200000</td>\n      <td>32.500000</td>\n      <td>1.600000</td>\n      <td>2.300000</td>\n      <td>77.600000</td>\n      <td>1.400000</td>\n      <td>2.600000</td>\n      <td>4.000000</td>\n      <td>2.000000</td>\n      <td>0.800000</td>\n      <td>0.500000</td>\n      <td>1.500000</td>\n      <td>1.000000</td>\n    </tr>\n    <tr>\n      <th>max</th>\n      <td>82.000000</td>\n      <td>40.900000</td>\n      <td>28.200000</td>\n      <td>10.200000</td>\n      <td>19.800000</td>\n      <td>73.700000</td>\n      <td>2.300000</td>\n      <td>6.500000</td>\n      <td>100.000000</td>\n      <td>7.700000</td>\n      <td>10.200000</td>\n      <td>100.000000</td>\n      <td>5.300000</td>\n      <td>9.600000</td>\n      <td>13.900000</td>\n      <td>10.600000</td>\n      <td>2.500000</td>\n      <td>3.900000</td>\n      <td>4.400000</td>\n      <td>1.000000</td>\n    </tr>\n  </tbody>\n</table>\n</div>"
     },
     "execution_count": 422,
     "metadata": {},
     "output_type": "execute_result"
    }
   ],
   "source": [
    "# Статистика для числовых полей\n",
    "df.describe()"
   ],
   "metadata": {
    "collapsed": false,
    "ExecuteTime": {
     "end_time": "2023-12-11T00:55:13.644471222Z",
     "start_time": "2023-12-11T00:55:13.621379731Z"
    }
   },
   "id": "4036b6839e76ad3"
  },
  {
   "cell_type": "code",
   "execution_count": 423,
   "outputs": [
    {
     "data": {
      "text/plain": "              name  gp   min  pts  fgm  fga    fg  3p_made  3pa    3p  ...  \\\n0   Brandon Ingram  36  27.4  7.4  2.6  7.6  34.7      0.5  2.1  25.0  ...   \n1  Andrew Harrison  35  26.9  7.2  2.0  6.7  29.6      0.7  2.8  23.5  ...   \n2   JaKarr Sampson  74  15.3  5.2  2.0  4.7  42.2      0.4  1.7  24.4  ...   \n3      Malik Sealy  58  11.6  5.7  2.3  5.5  42.6      0.1  0.5  22.6  ...   \n4      Matt Geiger  48  11.5  4.5  1.6  3.0  52.4      0.0  0.1   0.0  ...   \n\n   fta    ft  oreb  dreb  reb  ast  stl  blk  tov  target_5yrs  \n0  2.3  69.9   0.7   3.4  4.1  1.9  0.4  0.4  1.3          0.0  \n1  3.4  76.5   0.5   2.0  2.4  3.7  1.1  0.5  1.6          0.0  \n2  1.3  67.0   0.5   1.7  2.2  1.0  0.5  0.3  1.0          0.0  \n3  1.3  68.9   1.0   0.9  1.9  0.8  0.6  0.1  1.0          1.0  \n4  1.9  67.4   1.0   1.5  2.5  0.3  0.3  0.4  0.8          1.0  \n\n[5 rows x 21 columns]",
      "text/html": "<div>\n<style scoped>\n    .dataframe tbody tr th:only-of-type {\n        vertical-align: middle;\n    }\n\n    .dataframe tbody tr th {\n        vertical-align: top;\n    }\n\n    .dataframe thead th {\n        text-align: right;\n    }\n</style>\n<table border=\"1\" class=\"dataframe\">\n  <thead>\n    <tr style=\"text-align: right;\">\n      <th></th>\n      <th>name</th>\n      <th>gp</th>\n      <th>min</th>\n      <th>pts</th>\n      <th>fgm</th>\n      <th>fga</th>\n      <th>fg</th>\n      <th>3p_made</th>\n      <th>3pa</th>\n      <th>3p</th>\n      <th>...</th>\n      <th>fta</th>\n      <th>ft</th>\n      <th>oreb</th>\n      <th>dreb</th>\n      <th>reb</th>\n      <th>ast</th>\n      <th>stl</th>\n      <th>blk</th>\n      <th>tov</th>\n      <th>target_5yrs</th>\n    </tr>\n  </thead>\n  <tbody>\n    <tr>\n      <th>0</th>\n      <td>Brandon Ingram</td>\n      <td>36</td>\n      <td>27.4</td>\n      <td>7.4</td>\n      <td>2.6</td>\n      <td>7.6</td>\n      <td>34.7</td>\n      <td>0.5</td>\n      <td>2.1</td>\n      <td>25.0</td>\n      <td>...</td>\n      <td>2.3</td>\n      <td>69.9</td>\n      <td>0.7</td>\n      <td>3.4</td>\n      <td>4.1</td>\n      <td>1.9</td>\n      <td>0.4</td>\n      <td>0.4</td>\n      <td>1.3</td>\n      <td>0.0</td>\n    </tr>\n    <tr>\n      <th>1</th>\n      <td>Andrew Harrison</td>\n      <td>35</td>\n      <td>26.9</td>\n      <td>7.2</td>\n      <td>2.0</td>\n      <td>6.7</td>\n      <td>29.6</td>\n      <td>0.7</td>\n      <td>2.8</td>\n      <td>23.5</td>\n      <td>...</td>\n      <td>3.4</td>\n      <td>76.5</td>\n      <td>0.5</td>\n      <td>2.0</td>\n      <td>2.4</td>\n      <td>3.7</td>\n      <td>1.1</td>\n      <td>0.5</td>\n      <td>1.6</td>\n      <td>0.0</td>\n    </tr>\n    <tr>\n      <th>2</th>\n      <td>JaKarr Sampson</td>\n      <td>74</td>\n      <td>15.3</td>\n      <td>5.2</td>\n      <td>2.0</td>\n      <td>4.7</td>\n      <td>42.2</td>\n      <td>0.4</td>\n      <td>1.7</td>\n      <td>24.4</td>\n      <td>...</td>\n      <td>1.3</td>\n      <td>67.0</td>\n      <td>0.5</td>\n      <td>1.7</td>\n      <td>2.2</td>\n      <td>1.0</td>\n      <td>0.5</td>\n      <td>0.3</td>\n      <td>1.0</td>\n      <td>0.0</td>\n    </tr>\n    <tr>\n      <th>3</th>\n      <td>Malik Sealy</td>\n      <td>58</td>\n      <td>11.6</td>\n      <td>5.7</td>\n      <td>2.3</td>\n      <td>5.5</td>\n      <td>42.6</td>\n      <td>0.1</td>\n      <td>0.5</td>\n      <td>22.6</td>\n      <td>...</td>\n      <td>1.3</td>\n      <td>68.9</td>\n      <td>1.0</td>\n      <td>0.9</td>\n      <td>1.9</td>\n      <td>0.8</td>\n      <td>0.6</td>\n      <td>0.1</td>\n      <td>1.0</td>\n      <td>1.0</td>\n    </tr>\n    <tr>\n      <th>4</th>\n      <td>Matt Geiger</td>\n      <td>48</td>\n      <td>11.5</td>\n      <td>4.5</td>\n      <td>1.6</td>\n      <td>3.0</td>\n      <td>52.4</td>\n      <td>0.0</td>\n      <td>0.1</td>\n      <td>0.0</td>\n      <td>...</td>\n      <td>1.9</td>\n      <td>67.4</td>\n      <td>1.0</td>\n      <td>1.5</td>\n      <td>2.5</td>\n      <td>0.3</td>\n      <td>0.3</td>\n      <td>0.4</td>\n      <td>0.8</td>\n      <td>1.0</td>\n    </tr>\n  </tbody>\n</table>\n<p>5 rows × 21 columns</p>\n</div>"
     },
     "execution_count": 423,
     "metadata": {},
     "output_type": "execute_result"
    }
   ],
   "source": [
    "# Пример данных\n",
    "df.head()"
   ],
   "metadata": {
    "collapsed": false,
    "ExecuteTime": {
     "end_time": "2023-12-11T00:55:13.734521292Z",
     "start_time": "2023-12-11T00:55:13.675061352Z"
    }
   },
   "id": "44a093098ef33c1a"
  },
  {
   "cell_type": "markdown",
   "source": [
    "Feature Engineering"
   ],
   "metadata": {
    "collapsed": false
   },
   "id": "4f253df66ee75975"
  },
  {
   "cell_type": "code",
   "execution_count": 424,
   "outputs": [
    {
     "data": {
      "text/plain": "name            0\ngp              0\nmin             0\npts             0\nfgm             0\nfga             0\nfg              0\n3p_made         0\n3pa             0\n3p             11\nftm             0\nfta             0\nft              0\noreb            0\ndreb            0\nreb             0\nast             0\nstl             0\nblk             0\ntov             0\ntarget_5yrs     0\ndtype: int64"
     },
     "execution_count": 424,
     "metadata": {},
     "output_type": "execute_result"
    }
   ],
   "source": [
    "# Проверяем нулевые значения\n",
    "df.isnull().sum()"
   ],
   "metadata": {
    "collapsed": false,
    "ExecuteTime": {
     "end_time": "2023-12-11T00:55:13.735396082Z",
     "start_time": "2023-12-11T00:55:13.675328621Z"
    }
   },
   "id": "fcc373cc2de1954"
  },
  {
   "cell_type": "code",
   "execution_count": 425,
   "outputs": [
    {
     "data": {
      "text/plain": "                  pts        min         gp         ft\ntarget_5yrs                                           \n0.0          5.042829  14.252259  51.577603  68.858546\n1.0          7.878700  19.690253  65.826715  71.183394",
      "text/html": "<div>\n<style scoped>\n    .dataframe tbody tr th:only-of-type {\n        vertical-align: middle;\n    }\n\n    .dataframe tbody tr th {\n        vertical-align: top;\n    }\n\n    .dataframe thead th {\n        text-align: right;\n    }\n</style>\n<table border=\"1\" class=\"dataframe\">\n  <thead>\n    <tr style=\"text-align: right;\">\n      <th></th>\n      <th>pts</th>\n      <th>min</th>\n      <th>gp</th>\n      <th>ft</th>\n    </tr>\n    <tr>\n      <th>target_5yrs</th>\n      <th></th>\n      <th></th>\n      <th></th>\n      <th></th>\n    </tr>\n  </thead>\n  <tbody>\n    <tr>\n      <th>0.0</th>\n      <td>5.042829</td>\n      <td>14.252259</td>\n      <td>51.577603</td>\n      <td>68.858546</td>\n    </tr>\n    <tr>\n      <th>1.0</th>\n      <td>7.878700</td>\n      <td>19.690253</td>\n      <td>65.826715</td>\n      <td>71.183394</td>\n    </tr>\n  </tbody>\n</table>\n</div>"
     },
     "execution_count": 425,
     "metadata": {},
     "output_type": "execute_result"
    }
   ],
   "source": [
    "# Связь количества заработанных очков, времени в игре, количеством сыгранных игр с тем и процента попаданий с тем, что игрок продержится в лиге 5 лет\n",
    "df[['pts', 'min', 'gp', 'ft', 'target_5yrs']].groupby('target_5yrs').mean()"
   ],
   "metadata": {
    "collapsed": false,
    "ExecuteTime": {
     "end_time": "2023-12-11T00:55:13.804071417Z",
     "start_time": "2023-12-11T00:55:13.675519628Z"
    }
   },
   "id": "60e331dc9c3cda11"
  },
  {
   "cell_type": "code",
   "execution_count": 426,
   "outputs": [
    {
     "data": {
      "text/plain": "               target_5yrs\nCategoricalGP             \n(81.0, 82.0]      0.904348\n(79.0, 81.0]      0.868421\n(75.0, 79.0]      0.811321\n(69.0, 75.0]      0.707143\n(63.0, 69.0]      0.682171\n(56.0, 63.0]      0.602941\n(50.0, 56.0]      0.488889\n(43.0, 50.0]      0.485507\n(36.0, 43.0]      0.424242\n(10.0, 36.0]      0.288732",
      "text/html": "<div>\n<style scoped>\n    .dataframe tbody tr th:only-of-type {\n        vertical-align: middle;\n    }\n\n    .dataframe tbody tr th {\n        vertical-align: top;\n    }\n\n    .dataframe thead th {\n        text-align: right;\n    }\n</style>\n<table border=\"1\" class=\"dataframe\">\n  <thead>\n    <tr style=\"text-align: right;\">\n      <th></th>\n      <th>target_5yrs</th>\n    </tr>\n    <tr>\n      <th>CategoricalGP</th>\n      <th></th>\n    </tr>\n  </thead>\n  <tbody>\n    <tr>\n      <th>(81.0, 82.0]</th>\n      <td>0.904348</td>\n    </tr>\n    <tr>\n      <th>(79.0, 81.0]</th>\n      <td>0.868421</td>\n    </tr>\n    <tr>\n      <th>(75.0, 79.0]</th>\n      <td>0.811321</td>\n    </tr>\n    <tr>\n      <th>(69.0, 75.0]</th>\n      <td>0.707143</td>\n    </tr>\n    <tr>\n      <th>(63.0, 69.0]</th>\n      <td>0.682171</td>\n    </tr>\n    <tr>\n      <th>(56.0, 63.0]</th>\n      <td>0.602941</td>\n    </tr>\n    <tr>\n      <th>(50.0, 56.0]</th>\n      <td>0.488889</td>\n    </tr>\n    <tr>\n      <th>(43.0, 50.0]</th>\n      <td>0.485507</td>\n    </tr>\n    <tr>\n      <th>(36.0, 43.0]</th>\n      <td>0.424242</td>\n    </tr>\n    <tr>\n      <th>(10.0, 36.0]</th>\n      <td>0.288732</td>\n    </tr>\n  </tbody>\n</table>\n</div>"
     },
     "execution_count": 426,
     "metadata": {},
     "output_type": "execute_result"
    }
   ],
   "source": [
    "# Связь количества сыгранных игр с тем, что игрок продержится в лиге 5 лет\n",
    "df['CategoricalGP'] = pd.qcut(df['gp'], 10, precision=0)\n",
    "df[[\"CategoricalGP\", \"target_5yrs\"]].groupby(['CategoricalGP'],).mean().sort_values(by='CategoricalGP', ascending=False)"
   ],
   "metadata": {
    "collapsed": false,
    "ExecuteTime": {
     "end_time": "2023-12-11T00:55:13.804933636Z",
     "start_time": "2023-12-11T00:55:13.719559704Z"
    }
   },
   "id": "dacaa760c89f91f8"
  },
  {
   "cell_type": "code",
   "execution_count": 427,
   "outputs": [
    {
     "data": {
      "text/plain": "                target_5yrs\nCategoricalMIN             \n(30.0, 41.0]       0.887218\n(25.0, 30.0]       0.822222\n(21.0, 25.0]       0.759690\n(19.0, 21.0]       0.656716\n(16.0, 19.0]       0.666667\n(14.0, 16.0]       0.577778\n(12.0, 14.0]       0.481481\n(10.0, 12.0]       0.470149\n(8.0, 10.0]        0.500000\n(2.0, 8.0]         0.392857",
      "text/html": "<div>\n<style scoped>\n    .dataframe tbody tr th:only-of-type {\n        vertical-align: middle;\n    }\n\n    .dataframe tbody tr th {\n        vertical-align: top;\n    }\n\n    .dataframe thead th {\n        text-align: right;\n    }\n</style>\n<table border=\"1\" class=\"dataframe\">\n  <thead>\n    <tr style=\"text-align: right;\">\n      <th></th>\n      <th>target_5yrs</th>\n    </tr>\n    <tr>\n      <th>CategoricalMIN</th>\n      <th></th>\n    </tr>\n  </thead>\n  <tbody>\n    <tr>\n      <th>(30.0, 41.0]</th>\n      <td>0.887218</td>\n    </tr>\n    <tr>\n      <th>(25.0, 30.0]</th>\n      <td>0.822222</td>\n    </tr>\n    <tr>\n      <th>(21.0, 25.0]</th>\n      <td>0.759690</td>\n    </tr>\n    <tr>\n      <th>(19.0, 21.0]</th>\n      <td>0.656716</td>\n    </tr>\n    <tr>\n      <th>(16.0, 19.0]</th>\n      <td>0.666667</td>\n    </tr>\n    <tr>\n      <th>(14.0, 16.0]</th>\n      <td>0.577778</td>\n    </tr>\n    <tr>\n      <th>(12.0, 14.0]</th>\n      <td>0.481481</td>\n    </tr>\n    <tr>\n      <th>(10.0, 12.0]</th>\n      <td>0.470149</td>\n    </tr>\n    <tr>\n      <th>(8.0, 10.0]</th>\n      <td>0.500000</td>\n    </tr>\n    <tr>\n      <th>(2.0, 8.0]</th>\n      <td>0.392857</td>\n    </tr>\n  </tbody>\n</table>\n</div>"
     },
     "execution_count": 427,
     "metadata": {},
     "output_type": "execute_result"
    }
   ],
   "source": [
    "# Связь времени на поле с тем, что игрок продержится в лиге 5 лет\n",
    "df['CategoricalMIN'] = pd.qcut(df['min'], 10, precision=0)\n",
    "df[[\"CategoricalMIN\", \"target_5yrs\"]].groupby(['CategoricalMIN'],).mean().sort_values(by='CategoricalMIN', ascending=False)"
   ],
   "metadata": {
    "collapsed": false,
    "ExecuteTime": {
     "end_time": "2023-12-11T00:55:13.805629990Z",
     "start_time": "2023-12-11T00:55:13.719765516Z"
    }
   },
   "id": "15c52e6655cffb10"
  },
  {
   "cell_type": "code",
   "execution_count": 428,
   "outputs": [
    {
     "data": {
      "text/plain": "                target_5yrs\nCategoricalPTS             \n(13.2, 28.2]       0.879699\n(9.6, 13.2]        0.828358\n(8.0, 9.6]         0.807407\n(6.6, 8.0]         0.695312\n(5.6, 6.6]         0.621429\n(4.7, 5.6]         0.587786\n(4.0, 4.7]         0.569106\n(3.3, 4.0]         0.429630\n(2.6, 3.3]         0.390071\n(0.6, 2.6]         0.414286",
      "text/html": "<div>\n<style scoped>\n    .dataframe tbody tr th:only-of-type {\n        vertical-align: middle;\n    }\n\n    .dataframe tbody tr th {\n        vertical-align: top;\n    }\n\n    .dataframe thead th {\n        text-align: right;\n    }\n</style>\n<table border=\"1\" class=\"dataframe\">\n  <thead>\n    <tr style=\"text-align: right;\">\n      <th></th>\n      <th>target_5yrs</th>\n    </tr>\n    <tr>\n      <th>CategoricalPTS</th>\n      <th></th>\n    </tr>\n  </thead>\n  <tbody>\n    <tr>\n      <th>(13.2, 28.2]</th>\n      <td>0.879699</td>\n    </tr>\n    <tr>\n      <th>(9.6, 13.2]</th>\n      <td>0.828358</td>\n    </tr>\n    <tr>\n      <th>(8.0, 9.6]</th>\n      <td>0.807407</td>\n    </tr>\n    <tr>\n      <th>(6.6, 8.0]</th>\n      <td>0.695312</td>\n    </tr>\n    <tr>\n      <th>(5.6, 6.6]</th>\n      <td>0.621429</td>\n    </tr>\n    <tr>\n      <th>(4.7, 5.6]</th>\n      <td>0.587786</td>\n    </tr>\n    <tr>\n      <th>(4.0, 4.7]</th>\n      <td>0.569106</td>\n    </tr>\n    <tr>\n      <th>(3.3, 4.0]</th>\n      <td>0.429630</td>\n    </tr>\n    <tr>\n      <th>(2.6, 3.3]</th>\n      <td>0.390071</td>\n    </tr>\n    <tr>\n      <th>(0.6, 2.6]</th>\n      <td>0.414286</td>\n    </tr>\n  </tbody>\n</table>\n</div>"
     },
     "execution_count": 428,
     "metadata": {},
     "output_type": "execute_result"
    }
   ],
   "source": [
    "# Связь очков за игру с тем, что игрок продержится в лиге 5 лет\n",
    "df['CategoricalPTS'] = pd.qcut(df['pts'], 10, precision=0)\n",
    "df[[\"CategoricalPTS\", \"target_5yrs\"]].groupby(['CategoricalPTS'],).mean().sort_values(by='CategoricalPTS', ascending=False)"
   ],
   "metadata": {
    "collapsed": false,
    "ExecuteTime": {
     "end_time": "2023-12-11T00:55:13.806308256Z",
     "start_time": "2023-12-11T00:55:13.719888082Z"
    }
   },
   "id": "ad29a15c062b068f"
  },
  {
   "cell_type": "code",
   "execution_count": 429,
   "outputs": [
    {
     "data": {
      "text/plain": "               target_5yrs\nCategoricalFG             \n(52.0, 74.0]      0.639098\n(49.0, 52.0]      0.795455\n(47.0, 49.0]      0.750000\n(46.0, 47.0]      0.715385\n(44.0, 46.0]      0.669231\n(42.0, 44.0]      0.720588\n(41.0, 42.0]      0.598540\n(39.0, 41.0]      0.585185\n(37.0, 39.0]      0.398496\n(23.0, 37.0]      0.340580",
      "text/html": "<div>\n<style scoped>\n    .dataframe tbody tr th:only-of-type {\n        vertical-align: middle;\n    }\n\n    .dataframe tbody tr th {\n        vertical-align: top;\n    }\n\n    .dataframe thead th {\n        text-align: right;\n    }\n</style>\n<table border=\"1\" class=\"dataframe\">\n  <thead>\n    <tr style=\"text-align: right;\">\n      <th></th>\n      <th>target_5yrs</th>\n    </tr>\n    <tr>\n      <th>CategoricalFG</th>\n      <th></th>\n    </tr>\n  </thead>\n  <tbody>\n    <tr>\n      <th>(52.0, 74.0]</th>\n      <td>0.639098</td>\n    </tr>\n    <tr>\n      <th>(49.0, 52.0]</th>\n      <td>0.795455</td>\n    </tr>\n    <tr>\n      <th>(47.0, 49.0]</th>\n      <td>0.750000</td>\n    </tr>\n    <tr>\n      <th>(46.0, 47.0]</th>\n      <td>0.715385</td>\n    </tr>\n    <tr>\n      <th>(44.0, 46.0]</th>\n      <td>0.669231</td>\n    </tr>\n    <tr>\n      <th>(42.0, 44.0]</th>\n      <td>0.720588</td>\n    </tr>\n    <tr>\n      <th>(41.0, 42.0]</th>\n      <td>0.598540</td>\n    </tr>\n    <tr>\n      <th>(39.0, 41.0]</th>\n      <td>0.585185</td>\n    </tr>\n    <tr>\n      <th>(37.0, 39.0]</th>\n      <td>0.398496</td>\n    </tr>\n    <tr>\n      <th>(23.0, 37.0]</th>\n      <td>0.340580</td>\n    </tr>\n  </tbody>\n</table>\n</div>"
     },
     "execution_count": 429,
     "metadata": {},
     "output_type": "execute_result"
    }
   ],
   "source": [
    "# Связь с процентом попаданий с тем, что игрок продержится в лиге 5 лет\n",
    "df['CategoricalFG'] = pd.qcut(df['fg'], 10, precision=0)\n",
    "df[[\"CategoricalFG\", \"target_5yrs\"]].groupby(['CategoricalFG'],).mean().sort_values(by='CategoricalFG', ascending=False)"
   ],
   "metadata": {
    "collapsed": false,
    "ExecuteTime": {
     "end_time": "2023-12-11T00:55:13.838952039Z",
     "start_time": "2023-12-11T00:55:13.740227400Z"
    }
   },
   "id": "af6d524000fc06e8"
  },
  {
   "cell_type": "code",
   "execution_count": 430,
   "outputs": [
    {
     "data": {
      "text/plain": "              name  gp   min  pts  fgm  fga    fg  3p_made  3pa    3p  ...  \\\n0   Brandon Ingram  36  27.4  7.4  2.6  7.6  34.7      0.5  2.1  25.0  ...   \n1  Andrew Harrison  35  26.9  7.2  2.0  6.7  29.6      0.7  2.8  23.5  ...   \n2   JaKarr Sampson  74  15.3  5.2  2.0  4.7  42.2      0.4  1.7  24.4  ...   \n3      Malik Sealy  58  11.6  5.7  2.3  5.5  42.6      0.1  0.5  22.6  ...   \n4      Matt Geiger  48  11.5  4.5  1.6  3.0  52.4      0.0  0.1   0.0  ...   \n\n   reb  ast  stl  blk  tov  target_5yrs  CategoricalGP  CategoricalMIN  \\\n0  4.1  1.9  0.4  0.4  1.3          0.0   (10.0, 36.0]    (25.0, 30.0]   \n1  2.4  3.7  1.1  0.5  1.6          0.0   (10.0, 36.0]    (25.0, 30.0]   \n2  2.2  1.0  0.5  0.3  1.0          0.0   (69.0, 75.0]    (14.0, 16.0]   \n3  1.9  0.8  0.6  0.1  1.0          1.0   (56.0, 63.0]    (10.0, 12.0]   \n4  2.5  0.3  0.3  0.4  0.8          1.0   (43.0, 50.0]    (10.0, 12.0]   \n\n   CategoricalPTS  CategoricalFG  \n0      (6.6, 8.0]   (23.0, 37.0]  \n1      (6.6, 8.0]   (23.0, 37.0]  \n2      (4.7, 5.6]   (41.0, 42.0]  \n3      (5.6, 6.6]   (42.0, 44.0]  \n4      (4.0, 4.7]   (52.0, 74.0]  \n\n[5 rows x 25 columns]",
      "text/html": "<div>\n<style scoped>\n    .dataframe tbody tr th:only-of-type {\n        vertical-align: middle;\n    }\n\n    .dataframe tbody tr th {\n        vertical-align: top;\n    }\n\n    .dataframe thead th {\n        text-align: right;\n    }\n</style>\n<table border=\"1\" class=\"dataframe\">\n  <thead>\n    <tr style=\"text-align: right;\">\n      <th></th>\n      <th>name</th>\n      <th>gp</th>\n      <th>min</th>\n      <th>pts</th>\n      <th>fgm</th>\n      <th>fga</th>\n      <th>fg</th>\n      <th>3p_made</th>\n      <th>3pa</th>\n      <th>3p</th>\n      <th>...</th>\n      <th>reb</th>\n      <th>ast</th>\n      <th>stl</th>\n      <th>blk</th>\n      <th>tov</th>\n      <th>target_5yrs</th>\n      <th>CategoricalGP</th>\n      <th>CategoricalMIN</th>\n      <th>CategoricalPTS</th>\n      <th>CategoricalFG</th>\n    </tr>\n  </thead>\n  <tbody>\n    <tr>\n      <th>0</th>\n      <td>Brandon Ingram</td>\n      <td>36</td>\n      <td>27.4</td>\n      <td>7.4</td>\n      <td>2.6</td>\n      <td>7.6</td>\n      <td>34.7</td>\n      <td>0.5</td>\n      <td>2.1</td>\n      <td>25.0</td>\n      <td>...</td>\n      <td>4.1</td>\n      <td>1.9</td>\n      <td>0.4</td>\n      <td>0.4</td>\n      <td>1.3</td>\n      <td>0.0</td>\n      <td>(10.0, 36.0]</td>\n      <td>(25.0, 30.0]</td>\n      <td>(6.6, 8.0]</td>\n      <td>(23.0, 37.0]</td>\n    </tr>\n    <tr>\n      <th>1</th>\n      <td>Andrew Harrison</td>\n      <td>35</td>\n      <td>26.9</td>\n      <td>7.2</td>\n      <td>2.0</td>\n      <td>6.7</td>\n      <td>29.6</td>\n      <td>0.7</td>\n      <td>2.8</td>\n      <td>23.5</td>\n      <td>...</td>\n      <td>2.4</td>\n      <td>3.7</td>\n      <td>1.1</td>\n      <td>0.5</td>\n      <td>1.6</td>\n      <td>0.0</td>\n      <td>(10.0, 36.0]</td>\n      <td>(25.0, 30.0]</td>\n      <td>(6.6, 8.0]</td>\n      <td>(23.0, 37.0]</td>\n    </tr>\n    <tr>\n      <th>2</th>\n      <td>JaKarr Sampson</td>\n      <td>74</td>\n      <td>15.3</td>\n      <td>5.2</td>\n      <td>2.0</td>\n      <td>4.7</td>\n      <td>42.2</td>\n      <td>0.4</td>\n      <td>1.7</td>\n      <td>24.4</td>\n      <td>...</td>\n      <td>2.2</td>\n      <td>1.0</td>\n      <td>0.5</td>\n      <td>0.3</td>\n      <td>1.0</td>\n      <td>0.0</td>\n      <td>(69.0, 75.0]</td>\n      <td>(14.0, 16.0]</td>\n      <td>(4.7, 5.6]</td>\n      <td>(41.0, 42.0]</td>\n    </tr>\n    <tr>\n      <th>3</th>\n      <td>Malik Sealy</td>\n      <td>58</td>\n      <td>11.6</td>\n      <td>5.7</td>\n      <td>2.3</td>\n      <td>5.5</td>\n      <td>42.6</td>\n      <td>0.1</td>\n      <td>0.5</td>\n      <td>22.6</td>\n      <td>...</td>\n      <td>1.9</td>\n      <td>0.8</td>\n      <td>0.6</td>\n      <td>0.1</td>\n      <td>1.0</td>\n      <td>1.0</td>\n      <td>(56.0, 63.0]</td>\n      <td>(10.0, 12.0]</td>\n      <td>(5.6, 6.6]</td>\n      <td>(42.0, 44.0]</td>\n    </tr>\n    <tr>\n      <th>4</th>\n      <td>Matt Geiger</td>\n      <td>48</td>\n      <td>11.5</td>\n      <td>4.5</td>\n      <td>1.6</td>\n      <td>3.0</td>\n      <td>52.4</td>\n      <td>0.0</td>\n      <td>0.1</td>\n      <td>0.0</td>\n      <td>...</td>\n      <td>2.5</td>\n      <td>0.3</td>\n      <td>0.3</td>\n      <td>0.4</td>\n      <td>0.8</td>\n      <td>1.0</td>\n      <td>(43.0, 50.0]</td>\n      <td>(10.0, 12.0]</td>\n      <td>(4.0, 4.7]</td>\n      <td>(52.0, 74.0]</td>\n    </tr>\n  </tbody>\n</table>\n<p>5 rows × 25 columns</p>\n</div>"
     },
     "execution_count": 430,
     "metadata": {},
     "output_type": "execute_result"
    }
   ],
   "source": [
    "df.head()"
   ],
   "metadata": {
    "collapsed": false,
    "ExecuteTime": {
     "end_time": "2023-12-11T00:55:13.927583212Z",
     "start_time": "2023-12-11T00:55:13.819144537Z"
    }
   },
   "id": "6e782bc184018fd0"
  },
  {
   "cell_type": "markdown",
   "source": [
    "Encoding the independent variable"
   ],
   "metadata": {
    "collapsed": false
   },
   "id": "a1eda0874c0f249e"
  },
  {
   "cell_type": "code",
   "execution_count": 431,
   "outputs": [
    {
     "data": {
      "text/plain": "              name  gp   min  pts  fgm  fga    fg  3p_made  3pa    3p  ...  \\\n0   Brandon Ingram  36  27.4  7.4  2.6  7.6  34.7      0.5  2.1  25.0  ...   \n1  Andrew Harrison  35  26.9  7.2  2.0  6.7  29.6      0.7  2.8  23.5  ...   \n2   JaKarr Sampson  74  15.3  5.2  2.0  4.7  42.2      0.4  1.7  24.4  ...   \n3      Malik Sealy  58  11.6  5.7  2.3  5.5  42.6      0.1  0.5  22.6  ...   \n4      Matt Geiger  48  11.5  4.5  1.6  3.0  52.4      0.0  0.1   0.0  ...   \n\n   reb  ast  stl  blk  tov  target_5yrs  CategoricalGP  CategoricalMIN  \\\n0  4.1  1.9  0.4  0.4  1.3          0.0           36.0            30.0   \n1  2.4  3.7  1.1  0.5  1.6          0.0           36.0            30.0   \n2  2.2  1.0  0.5  0.3  1.0          0.0           75.0            16.0   \n3  1.9  0.8  0.6  0.1  1.0          1.0           63.0            12.0   \n4  2.5  0.3  0.3  0.4  0.8          1.0           50.0            12.0   \n\n   CategoricalPTS  CategoricalFG  \n0             8.0           37.0  \n1             8.0           37.0  \n2             5.6           42.0  \n3             6.6           44.0  \n4             4.7           74.0  \n\n[5 rows x 25 columns]",
      "text/html": "<div>\n<style scoped>\n    .dataframe tbody tr th:only-of-type {\n        vertical-align: middle;\n    }\n\n    .dataframe tbody tr th {\n        vertical-align: top;\n    }\n\n    .dataframe thead th {\n        text-align: right;\n    }\n</style>\n<table border=\"1\" class=\"dataframe\">\n  <thead>\n    <tr style=\"text-align: right;\">\n      <th></th>\n      <th>name</th>\n      <th>gp</th>\n      <th>min</th>\n      <th>pts</th>\n      <th>fgm</th>\n      <th>fga</th>\n      <th>fg</th>\n      <th>3p_made</th>\n      <th>3pa</th>\n      <th>3p</th>\n      <th>...</th>\n      <th>reb</th>\n      <th>ast</th>\n      <th>stl</th>\n      <th>blk</th>\n      <th>tov</th>\n      <th>target_5yrs</th>\n      <th>CategoricalGP</th>\n      <th>CategoricalMIN</th>\n      <th>CategoricalPTS</th>\n      <th>CategoricalFG</th>\n    </tr>\n  </thead>\n  <tbody>\n    <tr>\n      <th>0</th>\n      <td>Brandon Ingram</td>\n      <td>36</td>\n      <td>27.4</td>\n      <td>7.4</td>\n      <td>2.6</td>\n      <td>7.6</td>\n      <td>34.7</td>\n      <td>0.5</td>\n      <td>2.1</td>\n      <td>25.0</td>\n      <td>...</td>\n      <td>4.1</td>\n      <td>1.9</td>\n      <td>0.4</td>\n      <td>0.4</td>\n      <td>1.3</td>\n      <td>0.0</td>\n      <td>36.0</td>\n      <td>30.0</td>\n      <td>8.0</td>\n      <td>37.0</td>\n    </tr>\n    <tr>\n      <th>1</th>\n      <td>Andrew Harrison</td>\n      <td>35</td>\n      <td>26.9</td>\n      <td>7.2</td>\n      <td>2.0</td>\n      <td>6.7</td>\n      <td>29.6</td>\n      <td>0.7</td>\n      <td>2.8</td>\n      <td>23.5</td>\n      <td>...</td>\n      <td>2.4</td>\n      <td>3.7</td>\n      <td>1.1</td>\n      <td>0.5</td>\n      <td>1.6</td>\n      <td>0.0</td>\n      <td>36.0</td>\n      <td>30.0</td>\n      <td>8.0</td>\n      <td>37.0</td>\n    </tr>\n    <tr>\n      <th>2</th>\n      <td>JaKarr Sampson</td>\n      <td>74</td>\n      <td>15.3</td>\n      <td>5.2</td>\n      <td>2.0</td>\n      <td>4.7</td>\n      <td>42.2</td>\n      <td>0.4</td>\n      <td>1.7</td>\n      <td>24.4</td>\n      <td>...</td>\n      <td>2.2</td>\n      <td>1.0</td>\n      <td>0.5</td>\n      <td>0.3</td>\n      <td>1.0</td>\n      <td>0.0</td>\n      <td>75.0</td>\n      <td>16.0</td>\n      <td>5.6</td>\n      <td>42.0</td>\n    </tr>\n    <tr>\n      <th>3</th>\n      <td>Malik Sealy</td>\n      <td>58</td>\n      <td>11.6</td>\n      <td>5.7</td>\n      <td>2.3</td>\n      <td>5.5</td>\n      <td>42.6</td>\n      <td>0.1</td>\n      <td>0.5</td>\n      <td>22.6</td>\n      <td>...</td>\n      <td>1.9</td>\n      <td>0.8</td>\n      <td>0.6</td>\n      <td>0.1</td>\n      <td>1.0</td>\n      <td>1.0</td>\n      <td>63.0</td>\n      <td>12.0</td>\n      <td>6.6</td>\n      <td>44.0</td>\n    </tr>\n    <tr>\n      <th>4</th>\n      <td>Matt Geiger</td>\n      <td>48</td>\n      <td>11.5</td>\n      <td>4.5</td>\n      <td>1.6</td>\n      <td>3.0</td>\n      <td>52.4</td>\n      <td>0.0</td>\n      <td>0.1</td>\n      <td>0.0</td>\n      <td>...</td>\n      <td>2.5</td>\n      <td>0.3</td>\n      <td>0.3</td>\n      <td>0.4</td>\n      <td>0.8</td>\n      <td>1.0</td>\n      <td>50.0</td>\n      <td>12.0</td>\n      <td>4.7</td>\n      <td>74.0</td>\n    </tr>\n  </tbody>\n</table>\n<p>5 rows × 25 columns</p>\n</div>"
     },
     "execution_count": 431,
     "metadata": {},
     "output_type": "execute_result"
    }
   ],
   "source": [
    "# Чтобы не работать с интервалами преобразуем их к значениям\n",
    "def rightValue(interval):\n",
    "  return interval.right\n",
    "\n",
    "df['CategoricalGP'] = df['CategoricalGP'].apply(rightValue)\n",
    "df['CategoricalMIN'] = df['CategoricalMIN'].apply(rightValue)\n",
    "df['CategoricalPTS'] = df['CategoricalPTS'].apply(rightValue)\n",
    "df['CategoricalFG'] = df['CategoricalFG'].apply(rightValue)\n",
    "df.head()"
   ],
   "metadata": {
    "collapsed": false,
    "ExecuteTime": {
     "end_time": "2023-12-11T00:55:14.019607741Z",
     "start_time": "2023-12-11T00:55:13.887453292Z"
    }
   },
   "id": "31b0d754489488bb"
  },
  {
   "cell_type": "code",
   "execution_count": 432,
   "outputs": [],
   "source": [
    "# Удаляем ненужные столбцы\n",
    "drop_elements = ['min', 'gp', 'pts', 'fg']\n",
    "df = df.drop(drop_elements, axis = 1)"
   ],
   "metadata": {
    "collapsed": false,
    "ExecuteTime": {
     "end_time": "2023-12-11T00:55:14.065275045Z",
     "start_time": "2023-12-11T00:55:13.934105376Z"
    }
   },
   "id": "3496f3ae000f399e"
  },
  {
   "cell_type": "code",
   "execution_count": 433,
   "outputs": [
    {
     "data": {
      "text/plain": "              name  fgm  fga  3p_made  3pa    3p  ftm  fta    ft  oreb  ...  \\\n0   Brandon Ingram  2.6  7.6      0.5  2.1  25.0  1.6  2.3  69.9   0.7  ...   \n1  Andrew Harrison  2.0  6.7      0.7  2.8  23.5  2.6  3.4  76.5   0.5  ...   \n2   JaKarr Sampson  2.0  4.7      0.4  1.7  24.4  0.9  1.3  67.0   0.5  ...   \n3      Malik Sealy  2.3  5.5      0.1  0.5  22.6  0.9  1.3  68.9   1.0  ...   \n4      Matt Geiger  1.6  3.0      0.0  0.1   0.0  1.3  1.9  67.4   1.0  ...   \n\n   reb  ast  stl  blk  tov  target_5yrs  CategoricalGP CategoricalMIN  \\\n0  4.1  1.9  0.4  0.4  1.3          0.0           36.0           30.0   \n1  2.4  3.7  1.1  0.5  1.6          0.0           36.0           30.0   \n2  2.2  1.0  0.5  0.3  1.0          0.0           75.0           16.0   \n3  1.9  0.8  0.6  0.1  1.0          1.0           63.0           12.0   \n4  2.5  0.3  0.3  0.4  0.8          1.0           50.0           12.0   \n\n  CategoricalPTS CategoricalFG  \n0            8.0          37.0  \n1            8.0          37.0  \n2            5.6          42.0  \n3            6.6          44.0  \n4            4.7          74.0  \n\n[5 rows x 21 columns]",
      "text/html": "<div>\n<style scoped>\n    .dataframe tbody tr th:only-of-type {\n        vertical-align: middle;\n    }\n\n    .dataframe tbody tr th {\n        vertical-align: top;\n    }\n\n    .dataframe thead th {\n        text-align: right;\n    }\n</style>\n<table border=\"1\" class=\"dataframe\">\n  <thead>\n    <tr style=\"text-align: right;\">\n      <th></th>\n      <th>name</th>\n      <th>fgm</th>\n      <th>fga</th>\n      <th>3p_made</th>\n      <th>3pa</th>\n      <th>3p</th>\n      <th>ftm</th>\n      <th>fta</th>\n      <th>ft</th>\n      <th>oreb</th>\n      <th>...</th>\n      <th>reb</th>\n      <th>ast</th>\n      <th>stl</th>\n      <th>blk</th>\n      <th>tov</th>\n      <th>target_5yrs</th>\n      <th>CategoricalGP</th>\n      <th>CategoricalMIN</th>\n      <th>CategoricalPTS</th>\n      <th>CategoricalFG</th>\n    </tr>\n  </thead>\n  <tbody>\n    <tr>\n      <th>0</th>\n      <td>Brandon Ingram</td>\n      <td>2.6</td>\n      <td>7.6</td>\n      <td>0.5</td>\n      <td>2.1</td>\n      <td>25.0</td>\n      <td>1.6</td>\n      <td>2.3</td>\n      <td>69.9</td>\n      <td>0.7</td>\n      <td>...</td>\n      <td>4.1</td>\n      <td>1.9</td>\n      <td>0.4</td>\n      <td>0.4</td>\n      <td>1.3</td>\n      <td>0.0</td>\n      <td>36.0</td>\n      <td>30.0</td>\n      <td>8.0</td>\n      <td>37.0</td>\n    </tr>\n    <tr>\n      <th>1</th>\n      <td>Andrew Harrison</td>\n      <td>2.0</td>\n      <td>6.7</td>\n      <td>0.7</td>\n      <td>2.8</td>\n      <td>23.5</td>\n      <td>2.6</td>\n      <td>3.4</td>\n      <td>76.5</td>\n      <td>0.5</td>\n      <td>...</td>\n      <td>2.4</td>\n      <td>3.7</td>\n      <td>1.1</td>\n      <td>0.5</td>\n      <td>1.6</td>\n      <td>0.0</td>\n      <td>36.0</td>\n      <td>30.0</td>\n      <td>8.0</td>\n      <td>37.0</td>\n    </tr>\n    <tr>\n      <th>2</th>\n      <td>JaKarr Sampson</td>\n      <td>2.0</td>\n      <td>4.7</td>\n      <td>0.4</td>\n      <td>1.7</td>\n      <td>24.4</td>\n      <td>0.9</td>\n      <td>1.3</td>\n      <td>67.0</td>\n      <td>0.5</td>\n      <td>...</td>\n      <td>2.2</td>\n      <td>1.0</td>\n      <td>0.5</td>\n      <td>0.3</td>\n      <td>1.0</td>\n      <td>0.0</td>\n      <td>75.0</td>\n      <td>16.0</td>\n      <td>5.6</td>\n      <td>42.0</td>\n    </tr>\n    <tr>\n      <th>3</th>\n      <td>Malik Sealy</td>\n      <td>2.3</td>\n      <td>5.5</td>\n      <td>0.1</td>\n      <td>0.5</td>\n      <td>22.6</td>\n      <td>0.9</td>\n      <td>1.3</td>\n      <td>68.9</td>\n      <td>1.0</td>\n      <td>...</td>\n      <td>1.9</td>\n      <td>0.8</td>\n      <td>0.6</td>\n      <td>0.1</td>\n      <td>1.0</td>\n      <td>1.0</td>\n      <td>63.0</td>\n      <td>12.0</td>\n      <td>6.6</td>\n      <td>44.0</td>\n    </tr>\n    <tr>\n      <th>4</th>\n      <td>Matt Geiger</td>\n      <td>1.6</td>\n      <td>3.0</td>\n      <td>0.0</td>\n      <td>0.1</td>\n      <td>0.0</td>\n      <td>1.3</td>\n      <td>1.9</td>\n      <td>67.4</td>\n      <td>1.0</td>\n      <td>...</td>\n      <td>2.5</td>\n      <td>0.3</td>\n      <td>0.3</td>\n      <td>0.4</td>\n      <td>0.8</td>\n      <td>1.0</td>\n      <td>50.0</td>\n      <td>12.0</td>\n      <td>4.7</td>\n      <td>74.0</td>\n    </tr>\n  </tbody>\n</table>\n<p>5 rows × 21 columns</p>\n</div>"
     },
     "execution_count": 433,
     "metadata": {},
     "output_type": "execute_result"
    }
   ],
   "source": [
    "df.head()"
   ],
   "metadata": {
    "collapsed": false,
    "ExecuteTime": {
     "end_time": "2023-12-11T00:55:14.286023322Z",
     "start_time": "2023-12-11T00:55:14.047009841Z"
    }
   },
   "id": "621612191acf504"
  },
  {
   "cell_type": "code",
   "execution_count": 434,
   "outputs": [
    {
     "data": {
      "text/plain": "              name  fgm  fga  3p_made  3pa    3p  ftm  fta    ft  oreb  ...  \\\n0   Brandon Ingram  2.6  7.6      0.5  2.1  25.0  1.6  2.3  69.9   0.7  ...   \n1  Andrew Harrison  2.0  6.7      0.7  2.8  23.5  2.6  3.4  76.5   0.5  ...   \n2   JaKarr Sampson  2.0  4.7      0.4  1.7  24.4  0.9  1.3  67.0   0.5  ...   \n3      Malik Sealy  2.3  5.5      0.1  0.5  22.6  0.9  1.3  68.9   1.0  ...   \n4      Matt Geiger  1.6  3.0      0.0  0.1   0.0  1.3  1.9  67.4   1.0  ...   \n\n   reb  ast  stl  blk  tov  target_5yrs  CategoricalGP  CategoricalMIN  \\\n0  4.1  1.9  0.4  0.4  1.3          0.0              0               8   \n1  2.4  3.7  1.1  0.5  1.6          0.0              0               8   \n2  2.2  1.0  0.5  0.3  1.0          0.0              6               4   \n3  1.9  0.8  0.6  0.1  1.0          1.0              4               2   \n4  2.5  0.3  0.3  0.4  0.8          1.0              2               2   \n\n   CategoricalPTS  CategoricalFG  \n0               6              0  \n1               6              0  \n2               4              3  \n3               5              4  \n4               3              9  \n\n[5 rows x 21 columns]",
      "text/html": "<div>\n<style scoped>\n    .dataframe tbody tr th:only-of-type {\n        vertical-align: middle;\n    }\n\n    .dataframe tbody tr th {\n        vertical-align: top;\n    }\n\n    .dataframe thead th {\n        text-align: right;\n    }\n</style>\n<table border=\"1\" class=\"dataframe\">\n  <thead>\n    <tr style=\"text-align: right;\">\n      <th></th>\n      <th>name</th>\n      <th>fgm</th>\n      <th>fga</th>\n      <th>3p_made</th>\n      <th>3pa</th>\n      <th>3p</th>\n      <th>ftm</th>\n      <th>fta</th>\n      <th>ft</th>\n      <th>oreb</th>\n      <th>...</th>\n      <th>reb</th>\n      <th>ast</th>\n      <th>stl</th>\n      <th>blk</th>\n      <th>tov</th>\n      <th>target_5yrs</th>\n      <th>CategoricalGP</th>\n      <th>CategoricalMIN</th>\n      <th>CategoricalPTS</th>\n      <th>CategoricalFG</th>\n    </tr>\n  </thead>\n  <tbody>\n    <tr>\n      <th>0</th>\n      <td>Brandon Ingram</td>\n      <td>2.6</td>\n      <td>7.6</td>\n      <td>0.5</td>\n      <td>2.1</td>\n      <td>25.0</td>\n      <td>1.6</td>\n      <td>2.3</td>\n      <td>69.9</td>\n      <td>0.7</td>\n      <td>...</td>\n      <td>4.1</td>\n      <td>1.9</td>\n      <td>0.4</td>\n      <td>0.4</td>\n      <td>1.3</td>\n      <td>0.0</td>\n      <td>0</td>\n      <td>8</td>\n      <td>6</td>\n      <td>0</td>\n    </tr>\n    <tr>\n      <th>1</th>\n      <td>Andrew Harrison</td>\n      <td>2.0</td>\n      <td>6.7</td>\n      <td>0.7</td>\n      <td>2.8</td>\n      <td>23.5</td>\n      <td>2.6</td>\n      <td>3.4</td>\n      <td>76.5</td>\n      <td>0.5</td>\n      <td>...</td>\n      <td>2.4</td>\n      <td>3.7</td>\n      <td>1.1</td>\n      <td>0.5</td>\n      <td>1.6</td>\n      <td>0.0</td>\n      <td>0</td>\n      <td>8</td>\n      <td>6</td>\n      <td>0</td>\n    </tr>\n    <tr>\n      <th>2</th>\n      <td>JaKarr Sampson</td>\n      <td>2.0</td>\n      <td>4.7</td>\n      <td>0.4</td>\n      <td>1.7</td>\n      <td>24.4</td>\n      <td>0.9</td>\n      <td>1.3</td>\n      <td>67.0</td>\n      <td>0.5</td>\n      <td>...</td>\n      <td>2.2</td>\n      <td>1.0</td>\n      <td>0.5</td>\n      <td>0.3</td>\n      <td>1.0</td>\n      <td>0.0</td>\n      <td>6</td>\n      <td>4</td>\n      <td>4</td>\n      <td>3</td>\n    </tr>\n    <tr>\n      <th>3</th>\n      <td>Malik Sealy</td>\n      <td>2.3</td>\n      <td>5.5</td>\n      <td>0.1</td>\n      <td>0.5</td>\n      <td>22.6</td>\n      <td>0.9</td>\n      <td>1.3</td>\n      <td>68.9</td>\n      <td>1.0</td>\n      <td>...</td>\n      <td>1.9</td>\n      <td>0.8</td>\n      <td>0.6</td>\n      <td>0.1</td>\n      <td>1.0</td>\n      <td>1.0</td>\n      <td>4</td>\n      <td>2</td>\n      <td>5</td>\n      <td>4</td>\n    </tr>\n    <tr>\n      <th>4</th>\n      <td>Matt Geiger</td>\n      <td>1.6</td>\n      <td>3.0</td>\n      <td>0.0</td>\n      <td>0.1</td>\n      <td>0.0</td>\n      <td>1.3</td>\n      <td>1.9</td>\n      <td>67.4</td>\n      <td>1.0</td>\n      <td>...</td>\n      <td>2.5</td>\n      <td>0.3</td>\n      <td>0.3</td>\n      <td>0.4</td>\n      <td>0.8</td>\n      <td>1.0</td>\n      <td>2</td>\n      <td>2</td>\n      <td>3</td>\n      <td>9</td>\n    </tr>\n  </tbody>\n</table>\n<p>5 rows × 21 columns</p>\n</div>"
     },
     "execution_count": 434,
     "metadata": {},
     "output_type": "execute_result"
    }
   ],
   "source": [
    "from sklearn.preprocessing import LabelEncoder\n",
    "encoder = LabelEncoder()\n",
    "\n",
    "df['CategoricalGP'] = encoder.fit_transform(df['CategoricalGP'])\n",
    "df['CategoricalMIN'] = encoder.fit_transform(df['CategoricalMIN'])\n",
    "df['CategoricalPTS'] = encoder.fit_transform(df['CategoricalPTS'])\n",
    "df['CategoricalFG'] = encoder.fit_transform(df['CategoricalFG'])\n",
    "\n",
    "df.head()"
   ],
   "metadata": {
    "collapsed": false,
    "ExecuteTime": {
     "end_time": "2023-12-11T00:55:14.339544111Z",
     "start_time": "2023-12-11T00:55:14.270251542Z"
    }
   },
   "id": "159a12a7d82080b6"
  },
  {
   "cell_type": "code",
   "execution_count": 435,
   "outputs": [
    {
     "name": "stdout",
     "output_type": "stream",
     "text": [
      "<class 'pandas.core.frame.DataFrame'>\n",
      "RangeIndex: 1340 entries, 0 to 1339\n",
      "Data columns (total 20 columns):\n",
      " #   Column          Non-Null Count  Dtype  \n",
      "---  ------          --------------  -----  \n",
      " 0   fgm             1340 non-null   float64\n",
      " 1   fga             1340 non-null   float64\n",
      " 2   3p_made         1340 non-null   float64\n",
      " 3   3pa             1340 non-null   float64\n",
      " 4   3p              1329 non-null   float64\n",
      " 5   ftm             1340 non-null   float64\n",
      " 6   fta             1340 non-null   float64\n",
      " 7   ft              1340 non-null   float64\n",
      " 8   oreb            1340 non-null   float64\n",
      " 9   dreb            1340 non-null   float64\n",
      " 10  reb             1340 non-null   float64\n",
      " 11  ast             1340 non-null   float64\n",
      " 12  stl             1340 non-null   float64\n",
      " 13  blk             1340 non-null   float64\n",
      " 14  tov             1340 non-null   float64\n",
      " 15  target_5yrs     1340 non-null   float64\n",
      " 16  CategoricalGP   1340 non-null   int64  \n",
      " 17  CategoricalMIN  1340 non-null   int64  \n",
      " 18  CategoricalPTS  1340 non-null   int64  \n",
      " 19  CategoricalFG   1340 non-null   int64  \n",
      "dtypes: float64(16), int64(4)\n",
      "memory usage: 209.5 KB\n"
     ]
    }
   ],
   "source": [
    "df = df.drop(columns=['name'])\n",
    "df.info()"
   ],
   "metadata": {
    "collapsed": false,
    "ExecuteTime": {
     "end_time": "2023-12-11T00:55:14.438905261Z",
     "start_time": "2023-12-11T00:55:14.342372407Z"
    }
   },
   "id": "d7dbe4195e797fa5"
  },
  {
   "cell_type": "code",
   "execution_count": 436,
   "outputs": [
    {
     "name": "stdout",
     "output_type": "stream",
     "text": [
      "<class 'pandas.core.frame.DataFrame'>\n",
      "Int64Index: 1329 entries, 0 to 1339\n",
      "Data columns (total 20 columns):\n",
      " #   Column          Non-Null Count  Dtype  \n",
      "---  ------          --------------  -----  \n",
      " 0   fgm             1329 non-null   float64\n",
      " 1   fga             1329 non-null   float64\n",
      " 2   3p_made         1329 non-null   float64\n",
      " 3   3pa             1329 non-null   float64\n",
      " 4   3p              1329 non-null   float64\n",
      " 5   ftm             1329 non-null   float64\n",
      " 6   fta             1329 non-null   float64\n",
      " 7   ft              1329 non-null   float64\n",
      " 8   oreb            1329 non-null   float64\n",
      " 9   dreb            1329 non-null   float64\n",
      " 10  reb             1329 non-null   float64\n",
      " 11  ast             1329 non-null   float64\n",
      " 12  stl             1329 non-null   float64\n",
      " 13  blk             1329 non-null   float64\n",
      " 14  tov             1329 non-null   float64\n",
      " 15  target_5yrs     1329 non-null   float64\n",
      " 16  CategoricalGP   1329 non-null   int64  \n",
      " 17  CategoricalMIN  1329 non-null   int64  \n",
      " 18  CategoricalPTS  1329 non-null   int64  \n",
      " 19  CategoricalFG   1329 non-null   int64  \n",
      "dtypes: float64(16), int64(4)\n",
      "memory usage: 218.0 KB\n"
     ]
    }
   ],
   "source": [
    "df = df.dropna()\n",
    "y = df['target_5yrs'] \n",
    "X = df.drop(columns=['target_5yrs'])\n",
    "df.info()"
   ],
   "metadata": {
    "collapsed": false,
    "ExecuteTime": {
     "end_time": "2023-12-11T00:55:14.473889037Z",
     "start_time": "2023-12-11T00:55:14.411464471Z"
    }
   },
   "id": "7af0fcfb0a5f9b5b"
  },
  {
   "cell_type": "code",
   "execution_count": 443,
   "outputs": [
    {
     "name": "stderr",
     "output_type": "stream",
     "text": [
      "/home/vlad/anaconda3/lib/python3.11/site-packages/sklearn/linear_model/_logistic.py:460: ConvergenceWarning: lbfgs failed to converge (status=1):\n",
      "STOP: TOTAL NO. of ITERATIONS REACHED LIMIT.\n",
      "\n",
      "Increase the number of iterations (max_iter) or scale the data as shown in:\n",
      "    https://scikit-learn.org/stable/modules/preprocessing.html\n",
      "Please also refer to the documentation for alternative solver options:\n",
      "    https://scikit-learn.org/stable/modules/linear_model.html#logistic-regression\n",
      "  n_iter_i = _check_optimize_result(\n",
      "/tmp/ipykernel_11882/2812845002.py:42: FutureWarning: The frame.append method is deprecated and will be removed from pandas in a future version. Use pandas.concat instead.\n",
      "  log = log.append(log_entry)\n",
      "/tmp/ipykernel_11882/2812845002.py:42: FutureWarning: The frame.append method is deprecated and will be removed from pandas in a future version. Use pandas.concat instead.\n",
      "  log = log.append(log_entry)\n",
      "/tmp/ipykernel_11882/2812845002.py:42: FutureWarning: The frame.append method is deprecated and will be removed from pandas in a future version. Use pandas.concat instead.\n",
      "  log = log.append(log_entry)\n",
      "/tmp/ipykernel_11882/2812845002.py:42: FutureWarning: The frame.append method is deprecated and will be removed from pandas in a future version. Use pandas.concat instead.\n",
      "  log = log.append(log_entry)\n",
      "/tmp/ipykernel_11882/2812845002.py:42: FutureWarning: The frame.append method is deprecated and will be removed from pandas in a future version. Use pandas.concat instead.\n",
      "  log = log.append(log_entry)\n"
     ]
    },
    {
     "data": {
      "text/plain": "<Axes: title={'center': 'Classifier Accuracy'}, xlabel='Accuracy', ylabel='Classifier'>"
     },
     "execution_count": 443,
     "metadata": {},
     "output_type": "execute_result"
    },
    {
     "data": {
      "text/plain": "<Figure size 640x480 with 1 Axes>",
      "image/png": "[encoded data removed]"
     },
     "metadata": {},
     "output_type": "display_data"
    }
   ],
   "source": [
    "import matplotlib.pyplot as plt\n",
    "import seaborn as sns\n",
    "\n",
    "from sklearn.model_selection import train_test_split\n",
    "from sklearn.svm import SVC\n",
    "from sklearn.tree import DecisionTreeClassifier\n",
    "from sklearn.ensemble import RandomForestClassifier\n",
    "from sklearn.naive_bayes import GaussianNB\n",
    "from sklearn.linear_model import LogisticRegression\n",
    "from sklearn.metrics import accuracy_score\n",
    "\n",
    "\n",
    "\n",
    "classifiers = [\n",
    "    SVC(probability=True, kernel='rbf'),\n",
    "    DecisionTreeClassifier(),\n",
    "    RandomForestClassifier(),\n",
    "    GaussianNB(),\n",
    "    LogisticRegression(),\n",
    "]\n",
    "\n",
    "log_cols = [\"Classifier\", \"Accuracy\"]\n",
    "log = pd.DataFrame(columns=log_cols)\n",
    "\n",
    "X_train, X_test, y_train, y_test = train_test_split(X, y, test_size = 0.2, random_state = 0)\n",
    "acc_dict = {}\n",
    "\n",
    "for clf in classifiers:\n",
    "\tname = clf.__class__.__name__\n",
    "\tclf.fit(X_train, y_train)\n",
    "\ttrain_predictions = clf.predict(X_test)\n",
    "\tacc = accuracy_score(y_test, train_predictions)\n",
    "\tif name in acc_dict:\n",
    "\t\tacc_dict[name] += acc\n",
    "\telse:\n",
    "\t\tacc_dict[name] = acc\n",
    "\n",
    "for clf in acc_dict:\n",
    "\tacc_dict[clf] = acc_dict[clf] / 10.0\n",
    "\tlog_entry = pd.DataFrame([[clf, acc_dict[clf]]], columns=log_cols)\n",
    "\tlog = log.append(log_entry)\n",
    "\n",
    "plt.xlabel('Accuracy')\n",
    "plt.title('Classifier Accuracy')\n",
    "\n",
    "sns.set_color_codes(\"muted\")\n",
    "sns.barplot(x='Accuracy', y='Classifier', data=log.sort_values(by='Accuracy'), color=\"b\")"
   ],
   "metadata": {
    "collapsed": false,
    "ExecuteTime": {
     "end_time": "2023-12-11T01:00:28.978357703Z",
     "start_time": "2023-12-11T01:00:28.291164024Z"
    }
   },
   "id": "afb5c83cd54a6623"
  },
  {
   "cell_type": "code",
   "execution_count": 446,
   "outputs": [
    {
     "name": "stderr",
     "output_type": "stream",
     "text": [
      "/home/vlad/anaconda3/lib/python3.11/site-packages/sklearn/linear_model/_logistic.py:460: ConvergenceWarning: lbfgs failed to converge (status=1):\n",
      "STOP: TOTAL NO. of ITERATIONS REACHED LIMIT.\n",
      "\n",
      "Increase the number of iterations (max_iter) or scale the data as shown in:\n",
      "    https://scikit-learn.org/stable/modules/preprocessing.html\n",
      "Please also refer to the documentation for alternative solver options:\n",
      "    https://scikit-learn.org/stable/modules/linear_model.html#logistic-regression\n",
      "  n_iter_i = _check_optimize_result(\n",
      "/tmp/ipykernel_11882/335855398.py:39: FutureWarning: The frame.append method is deprecated and will be removed from pandas in a future version. Use pandas.concat instead.\n",
      "  log = log.append(log_entry)\n",
      "/tmp/ipykernel_11882/335855398.py:39: FutureWarning: The frame.append method is deprecated and will be removed from pandas in a future version. Use pandas.concat instead.\n",
      "  log = log.append(log_entry)\n",
      "/tmp/ipykernel_11882/335855398.py:39: FutureWarning: The frame.append method is deprecated and will be removed from pandas in a future version. Use pandas.concat instead.\n",
      "  log = log.append(log_entry)\n",
      "/tmp/ipykernel_11882/335855398.py:39: FutureWarning: The frame.append method is deprecated and will be removed from pandas in a future version. Use pandas.concat instead.\n",
      "  log = log.append(log_entry)\n",
      "/tmp/ipykernel_11882/335855398.py:39: FutureWarning: The frame.append method is deprecated and will be removed from pandas in a future version. Use pandas.concat instead.\n",
      "  log = log.append(log_entry)\n"
     ]
    },
    {
     "data": {
      "text/plain": "<Axes: title={'center': 'Classifier f1'}, xlabel='f1', ylabel='Classifier'>"
     },
     "execution_count": 446,
     "metadata": {},
     "output_type": "execute_result"
    },
    {
     "data": {
      "text/plain": "<Figure size 640x480 with 1 Axes>",
      "image/png": "[encoded data removed]"
     },
     "metadata": {},
     "output_type": "display_data"
    }
   ],
   "source": [
    "import matplotlib.pyplot as plt\n",
    "import seaborn as sns\n",
    "\n",
    "from sklearn.model_selection import train_test_split\n",
    "from sklearn.svm import SVC\n",
    "from sklearn.tree import DecisionTreeClassifier\n",
    "from sklearn.ensemble import RandomForestClassifier\n",
    "from sklearn.naive_bayes import GaussianNB\n",
    "from sklearn.linear_model import LogisticRegression\n",
    "from sklearn.metrics import f1_score\n",
    "\n",
    "classifiers = [\n",
    "    SVC(probability=True, kernel='rbf'),\n",
    "    DecisionTreeClassifier(),\n",
    "    RandomForestClassifier(),\n",
    "    GaussianNB(),\n",
    "    LogisticRegression(),\n",
    "]\n",
    "\n",
    "log_cols = [\"Classifier\", \"f1\"]\n",
    "log = pd.DataFrame(columns=log_cols)\n",
    "\n",
    "X_train, X_test, y_train, y_test = train_test_split(X, y, test_size = 0.2, random_state = 0)\n",
    "acc_dict = {}\n",
    "\n",
    "for clf in classifiers:\n",
    "\tname = clf.__class__.__name__\n",
    "\tclf.fit(X_train, y_train)\n",
    "\ttrain_predictions = clf.predict(X_test)\n",
    "\tacc = f1_score(y_test, train_predictions)\n",
    "\tif name in acc_dict:\n",
    "\t\tacc_dict[name] += acc\n",
    "\telse:\n",
    "\t\tacc_dict[name] = acc\n",
    "\n",
    "for clf in acc_dict:\n",
    "\tacc_dict[clf] = acc_dict[clf] / 10.0\n",
    "\tlog_entry = pd.DataFrame([[clf, acc_dict[clf]]], columns=log_cols)\n",
    "\tlog = log.append(log_entry)\n",
    "\n",
    "plt.xlabel('f1')\n",
    "plt.title('Classifier f1')\n",
    "\n",
    "sns.set_color_codes(\"muted\")\n",
    "sns.barplot(x='f1', y='Classifier', data=log.sort_values(by='f1'), color=\"b\")"
   ],
   "metadata": {
    "collapsed": false,
    "ExecuteTime": {
     "end_time": "2023-12-11T01:01:27.949656925Z",
     "start_time": "2023-12-11T01:01:27.272274866Z"
    }
   },
   "id": "76417605b8cc4a5"
  }
 ],
 "metadata": {
  "kernelspec": {
   "display_name": "Python 3 (ipykernel)",
   "language": "python",
   "name": "python3"
  },
  "language_info": {
   "codemirror_mode": {
    "name": "ipython",
    "version": 3
   },
   "file_extension": ".py",
   "mimetype": "text/x-python",
   "name": "python",
   "nbconvert_exporter": "python",
   "pygments_lexer": "ipython3",
   "version": "3.11.4"
  }
 },
 "nbformat": 4,
 "nbformat_minor": 5
}
